{
  "nbformat": 4,
  "nbformat_minor": 0,
  "metadata": {
    "colab": {
      "provenance": [],
      "collapsed_sections": [],
      "authorship_tag": "ABX9TyMieq618sP8srTUxtsVNIRY",
      "include_colab_link": true
    },
    "kernelspec": {
      "name": "python3",
      "display_name": "Python 3"
    },
    "language_info": {
      "name": "python"
    }
  },
  "cells": [
    {
      "cell_type": "markdown",
      "metadata": {
        "id": "view-in-github",
        "colab_type": "text"
      },
      "source": [
        "<a href=\"https://colab.research.google.com/github/AsraSelen/Statistical-Learning-from-Data-Applications-in-Physics-HW/blob/main/HW1PART2_FIZ437.ipynb\" target=\"_parent\"><img src=\"https://colab.research.google.com/assets/colab-badge.svg\" alt=\"Open In Colab\"/></a>"
      ]
    },
    {
      "cell_type": "code",
      "source": [
        "import numpy as np\n",
        "import scipy.special as sp\n",
        "import matplotlib.pyplot as plt\n",
        "import random\n",
        "import pandas as pd\n",
        "from sklearn.preprocessing import PolynomialFeatures\n",
        "from sklearn.linear_model import LinearRegression\n",
        "x=np.reshape(np.linspace(0,8,1000),(1000,1))\n",
        "J0=np.reshape(sp.jv(0,x),(1000,1)) \n",
        "target0=np.hstack((x,J0+0.1*np.reshape(np.random.normal(0, 1, 1000),(1000,1))))\n",
        "xf=target0[:,0]\n",
        "yf=target0[:,1]\n",
        "np.random.shuffle(target0)\n",
        "list=[10,20,100,1000,10000] \n",
        "\n",
        "for d in range(len(list)):\n",
        " target=target0[:int(list[d]),:]\n",
        " validset=(target[:int(0.2*len(target)),:])\n",
        " trainset=target[int(0.2*len(target)):int(len(target)),:]\n",
        " X=np.reshape(trainset[:,0],(-1,1))\n",
        " y=trainset[:,1]\n",
        " poly_reg = PolynomialFeatures(degree = 8) \n",
        " X_poly= poly_reg.fit_transform(X) \n",
        " poly_reg.fit(X_poly, y) \n",
        " lin_reg_2 = LinearRegression() \n",
        " lin_reg_2.fit(X_poly,y)\n",
        " X_grid = np.arange(min(X), max(X), 0.1) \n",
        " X_grid = X_grid.reshape((len(X_grid), 1)) \n",
        " plt.scatter(X, y, label=\"training pt\",color = 'red') \n",
        " plt.plot(x,J0,'*',label=\"ground truth\",color='yellow')\n",
        " y_pred=lin_reg_2.predict(poly_reg.fit_transform(X_grid))\n",
        " plt.plot(X_grid, lin_reg_2.predict(poly_reg.fit_transform(X_grid)),label=\"fit\" ,color = 'blue') \n",
        " plt.scatter(validset[:,0],validset[:,1],label=\"testing pt\", color = \"green\")\n",
        " plt.xlabel('x') \n",
        " plt.ylabel('0th Order Bessel Function')   #legend ekle!! true func,predicted func, data scattering\n",
        " plt.legend()\n",
        " plt.show()"
      ],
      "metadata": {
        "id": "xRH4puBFhHPi"
      },
      "execution_count": null,
      "outputs": []
    },
    {
      "cell_type": "code",
      "source": [
        "from sklearn.pipeline import make_pipeline\n",
        "model = make_pipeline(PolynomialFeatures(degree=8), LinearRegression())\n",
        "\n",
        "from sklearn.model_selection import learning_curve\n",
        "train_sizes, train_scores, validation_scores = learning_curve(model,xf[:, np.newaxis],yf,train_sizes=np.logspace(-1, 0, 20))\n",
        "\n",
        "    # Plot the mean train error and validation error across folds\n",
        "plt.figure(figsize=(6, 4))\n",
        "plt.plot(train_sizes, validation_scores.mean(axis=1),lw=2, label='cross-validation')\n",
        "plt.plot(train_sizes, train_scores.mean(axis=1),lw=2, label='training')\n",
        "plt.ylim(ymin=-.1, ymax=1)\n",
        "plt.legend(loc='best')\n",
        "plt.xlabel('number of train samples')\n",
        "plt.ylabel('explained variance')\n",
        "plt.title('Learning curve (degree=%i)' % d)\n",
        "plt.tight_layout()\n",
        "\n",
        "\n",
        "plt.show()"
      ],
      "metadata": {
        "colab": {
          "base_uri": "https://localhost:8080/",
          "height": 296
        },
        "id": "z8z5vE3qO5IS",
        "outputId": "a43f6170-97ae-44e2-8b18-6eebb7671276"
      },
      "execution_count": null,
      "outputs": [
        {
          "output_type": "display_data",
          "data": {
            "text/plain": [
              "<Figure size 432x288 with 1 Axes>"
            ],
            "image/png": "[encoded data removed]"
          },
          "metadata": {
            "needs_background": "light"
          }
        }
      ]
    },
    {
      "cell_type": "code",
      "source": [
        "#train_err=np.zeros((1,len(list)))\n",
        "#valid_err=np.zeros((1,len(list)))\n",
        "\n",
        "train_err=sum(np.square(lin_reg_2.predict(poly_reg.fit_transform(trainset[:,0]))-y)) /len(trainset)\n",
        "#valid_err=sum(np.square(sp.jv(0,validset[:,0])-validset[:,1]))/len(validset)   #neyle karsılastorcaksın duzgun bak \n",
        "#plt.plot(x,train_err,x,valid_err)\n",
        "print(train_err,valid_err)\n"
      ],
      "metadata": {
        "id": "Rh-ynM9G3UHC"
      },
      "execution_count": null,
      "outputs": []
    },
    {
      "cell_type": "code",
      "source": [
        "from sklearn.model_selection import validation_curve\n",
        "from sklearn.pipeline import make_pipeline\n",
        "def PolynomialRegression(degree=8, **kwargs):\n",
        "    return make_pipeline(PolynomialFeatures(degree), LinearRegression(**kwargs))\n",
        "degree = np.arange(0, 21)\n",
        "\n",
        "train_score, val_score = validation_curve(PolynomialRegression(), X, y,'polynomialfeatures__degree', degree, cv=7)\n",
        "\n",
        "plt.plot(degree, np.median(train_score, 1), color='blue', label='training score')\n",
        "plt.plot(degree, np.median(val_score, 1), color='red', label='validation score')\n",
        "plt.legend(loc='best')\n",
        "plt.ylim(0, 1)\n",
        "plt.xlabel('degree')\n",
        "plt.ylabel('score');\n"
      ],
      "metadata": {
        "id": "zdNQAONLIXa1"
      },
      "execution_count": null,
      "outputs": []
    },
    {
      "cell_type": "code",
      "source": [
        "from sklearn.preprocessing import PolynomialFeatures\n",
        "from sklearn.preprocessing import StandardScaler\n",
        "pipeline = make_pipeline(StandardScaler(),PolynomialFeatures(8))\n",
        "#\n",
        "# Get Training and test scores using validation curve method\n",
        "# Pay attention to the parameter values range set as param_range\n",
        "#\n",
        "param_range = list\n",
        "train_scores, test_scores = validation_curve(estimator=pipeline,X=trainset[:,0],y=trainset[:,1],cv=10,param_name='logisticregression__C', param_range=param_range)"
      ],
      "metadata": {
        "id": "9yfpcnvWMc0F"
      },
      "execution_count": null,
      "outputs": []
    }
  ]
}