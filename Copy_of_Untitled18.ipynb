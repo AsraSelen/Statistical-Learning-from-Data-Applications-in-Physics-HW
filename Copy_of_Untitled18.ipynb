{
  "cells": [
    {
      "cell_type": "markdown",
      "metadata": {
        "id": "view-in-github",
        "colab_type": "text"
      },
      "source": [
        "<a href=\"https://colab.research.google.com/github/AsraSelen/Statistical-Learning-from-Data-Applications-in-Physics-HW/blob/main/Copy_of_Untitled18.ipynb\" target=\"_parent\"><img src=\"https://colab.research.google.com/assets/colab-badge.svg\" alt=\"Open In Colab\"/></a>"
      ]
    },
    {
      "cell_type": "code",
      "execution_count": null,
      "metadata": {
        "id": "TfSKKbeWh3Oq"
      },
      "outputs": [],
      "source": [
        "gştfrom google.colab import drive\n",
        "drive.mount('/content/drive/') "
      ]
    },
    {
      "cell_type": "code",
      "execution_count": null,
      "metadata": {
        "id": "oaxlBs4Ih4Qh"
      },
      "outputs": [],
      "source": [
        "from zipfile import ZipFile\n",
        "\n",
        "!unzip '/content/drive/MyDrive/meerkatfinal.zip'\n",
        "!unzip '/content/drive/MyDrive/swanfinal 2.zip'"
      ]
    },
    {
      "cell_type": "code",
      "execution_count": null,
      "metadata": {
        "id": "TjWRTYMFhsEr"
      },
      "outputs": [],
      "source": [
        "import numpy as np\n",
        "import os\n",
        "import cv2\n",
        "import matplotlib.pyplot as plt\n",
        "from PIL import Image\n",
        "\n",
        "path=\"/content/\"\n",
        "\n",
        "arraylist=np.zeros((1,224*224))\n",
        "\n",
        "def mylistdir(directory):   #Prevention for interruption of.DS Store files\n",
        "    filelist = os.listdir(directory)\n",
        "    return [x for x in filelist\n",
        "            if not (x.startswith('.'))]\n",
        "cat=[\"swanfinal\"]\n",
        "i=0\n",
        "for category in cat:\n",
        "    path=os.path.join(path,category)\n",
        "    for img in mylistdir(path):\n",
        "        print(img)\n",
        "        i=i+1\n",
        "        img1=img\n",
        "        image = Image.open(path +\"/\"+str(img))\n",
        "        img=image.resize((224,224),Image.ANTIALIAS)\n",
        "        img = img.convert('RGB')\n",
        "        newdir=path +\"/\"+str(img1) +'.jpg'\n",
        "        img_resized=img.save(newdir)\n",
        "        img_array=cv2.imread(newdir,cv2.IMREAD_GRAYSCALE)\n",
        "        swanarray=img_array.flatten()\n",
        "        arraylist=np.vstack((arraylist,swanarray))\n",
        "        plt.imshow(img_array,cmap=\"gray\")\n",
        "        plt.show()\n",
        "        \n",
        "        if i==500:\n",
        "            arraylistswan=arraylist[1:,:] \n",
        "            break\n",
        "        \n",
        "path=\"/content/\"\n",
        "arraylist=np.zeros((1,224*224))        \n",
        "cat=[\"meerkatfinal\"]    \n",
        "i=0\n",
        "for category in cat:\n",
        "    path=os.path.join(path,category)\n",
        "    for img in mylistdir(path):\n",
        "        print(img)\n",
        "        i=i+1\n",
        "        img1=img\n",
        "        image = Image.open(path +\"/\"+str(img))\n",
        "        img=image.resize((224,224),Image.ANTIALIAS)\n",
        "        img = img.convert('RGB')\n",
        "        newdir=path +\"/\"+str(img1) +'.jpg'\n",
        "        img_resized=img.save(newdir)\n",
        "        img_array=cv2.imread(newdir,cv2.IMREAD_GRAYSCALE)\n",
        "        meerarray=img_array.flatten()\n",
        "        arraylist=np.vstack((arraylist,meerarray))\n",
        "        plt.imshow(img_array,cmap=\"gray\")\n",
        "        plt.show()\n",
        "        \n",
        "        if i==500:\n",
        "            arraylistmeer=arraylist[1:,:] \n",
        "            break\n",
        "        "
      ]
    },
    {
      "cell_type": "code",
      "source": [
        "#LABELING\n",
        "\n",
        "arraylistswan=np.hstack(( arraylistswan,np.zeros((np.size(arraylistswan,0),1)))) #swan label =0\n",
        "arraylistmeer=np.hstack(( arraylistmeer,np.ones((np.size(arraylistmeer,0),1)))) #meerkat label =1\n",
        "\n",
        "#TRAINING random !!!!!change it !!! make num of images in classes equal \n",
        "#np.random.shuffle(datamatrix)\n",
        "training_setr = np.vstack((arraylistswan[:int(0.45*np.size(arraylistswan,0)), :],arraylistmeer[:int(0.45*np.size(arraylistmeer,0)), :]))\n",
        "testing_setr = np.vstack((arraylistswan[int(0.45*np.size(arraylistswan,0)):, :],arraylistmeer[int(0.45*np.size(arraylistmeer,0)):, :]))\n"
      ],
      "metadata": {
        "id": "4lFclyUXXzsn"
      },
      "execution_count": null,
      "outputs": []
    },
    {
      "cell_type": "code",
      "source": [
        "np.random.shuffle(testing_setr)\n",
        "np.random.shuffle(training_setr)"
      ],
      "metadata": {
        "id": "Aes2nH-IRZvF"
      },
      "execution_count": null,
      "outputs": []
    },
    {
      "cell_type": "code",
      "execution_count": null,
      "metadata": {
        "id": "kvXvASofnXsm"
      },
      "outputs": [],
      "source": [
        "#TRAINING if it works delete this cell\n",
        "#training_set = datamatrix[:int(0.9*np.size(datamatrix,0)), :]\n",
        "#testing_set =  datamatrix[int(0.9*np.size(datamatrix,0)):, :]"
      ]
    },
    {
      "cell_type": "code",
      "execution_count": null,
      "metadata": {
        "id": "5iShDSequTrO"
      },
      "outputs": [],
      "source": [
        "#VOTING\n",
        "\n",
        "testdata=100\n",
        "rows = testing_setr[:testdata, :] \n",
        "\n",
        "#broadcasting with training data for every testing row\n",
        "acc=np.zeros(10)\n",
        "i=-1\n",
        "for k in range(1,20,2):\n",
        " i=i+1\n",
        " c=0\n",
        " for n in range(len(rows)):\n",
        "\n",
        "   pt=testing_setr[n-1,:224*224] #must be 1x50176\n",
        " #distance\n",
        "   d=np.sqrt(np.sum(np.square(training_setr[:,:224*224]-pt),axis=1)) #kac square??\n",
        "   z=training_setr[:,-1]\n",
        "   dlabel=np.transpose(np.vstack((d,z)))\n",
        " #label  \n",
        "   sortedarr = dlabel[dlabel[:,0].argsort()]\n",
        "   vote=sum(sortedarr[:k,1])/k\n",
        "   if vote < 0.5 :\n",
        "     pt1=np.zeros(1) #pt1=np.hstack((pt,np.zeros(1)))\n",
        "   else:\n",
        "     pt1=np.ones(1)\n",
        "   corr=rows[n-1,np.size(rows,1)-1]-pt1\n",
        "\n",
        "   if corr==0:\n",
        "     c=c+1\n",
        " acc[i]=(c/testdata)*100"
      ]
    },
    {
      "cell_type": "code",
      "source": [
        "k=np.linspace(1,19,10)                         \n",
        "plt.xlabel(\"Number of k\")\n",
        "plt.ylabel(\"Accuracy(%)\")\n",
        "plt.xlim(0,20)\n",
        "plt.ylim(64,90)\n",
        "plt.plot(k,acc,marker='o', linestyle='--')\n",
        "plt.grid()\n",
        "plt.show()\n"
      ],
      "metadata": {
        "id": "vcL9s6eVZ2Ym",
        "colab": {
          "base_uri": "https://localhost:8080/",
          "height": 283
        },
        "outputId": "601f4f1b-addc-417d-e7dd-543dc0a21229"
      },
      "execution_count": null,
      "outputs": [
        {
          "output_type": "display_data",
          "data": {
            "text/plain": [
              "<Figure size 432x288 with 1 Axes>"
            ],
            "image/png": "[encoded data removed]"
          },
          "metadata": {
            "needs_background": "light"
          }
        }
      ]
    }
  ],
  "metadata": {
    "colab": {
      "collapsed_sections": [],
      "provenance": [],
      "authorship_tag": "ABX9TyMcILUkbNM4qyFw7xkF++ls",
      "include_colab_link": true
    },
    "kernelspec": {
      "display_name": "Python 3",
      "name": "python3"
    },
    "language_info": {
      "name": "python"
    }
  },
  "nbformat": 4,
  "nbformat_minor": 0
}